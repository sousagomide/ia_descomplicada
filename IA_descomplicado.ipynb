{
  "nbformat": 4,
  "nbformat_minor": 0,
  "metadata": {
    "colab": {
      "provenance": [],
      "authorship_tag": "ABX9TyON5f7OGk2i8LVvPiZO7IG5",
      "include_colab_link": true
    },
    "kernelspec": {
      "name": "python3",
      "display_name": "Python 3"
    },
    "language_info": {
      "name": "python"
    }
  },
  "cells": [
    {
      "cell_type": "markdown",
      "metadata": {
        "id": "view-in-github",
        "colab_type": "text"
      },
      "source": [
        "<a href=\"https://colab.research.google.com/github/sousagomide/ia_descomplicada/blob/main/IA_descomplicado.ipynb\" target=\"_parent\"><img src=\"https://colab.research.google.com/assets/colab-badge.svg\" alt=\"Open In Colab\"/></a>"
      ]
    },
    {
      "cell_type": "markdown",
      "source": [
        "# **Aprendizagem de Máquina (Machine Learning)**\n",
        "\n",
        "Áreas de aplicação\n",
        "\n",
        "*   Detecção ou reconhecimento facial;\n",
        "*   Captura de movimentos;\n",
        "*   Carros autônomos;\n",
        "*   Sistemas de recomendação (Netflix, Prime, Spotify);\n",
        "*   Sites de encontros;\n",
        "*   Sistemas de comércio eletrônico;\n",
        "*   Sistemas de Anúncios (ADS);\n",
        "*   Conversão de texto para fala;\n",
        "*   Algoritmos de busca;"
      ],
      "metadata": {
        "id": "Fgx0z66cvbmk"
      }
    },
    {
      "cell_type": "code",
      "execution_count": null,
      "metadata": {
        "id": "rWBOUL7StqxU"
      },
      "outputs": [],
      "source": []
    }
  ]
}