{
  "nbformat": 4,
  "nbformat_minor": 0,
  "metadata": {
    "colab": {
      "provenance": [],
      "toc_visible": true,
      "authorship_tag": "ABX9TyP8E++dvNQy57ZQhYJTT4RF",
      "include_colab_link": true
    },
    "kernelspec": {
      "name": "python3",
      "display_name": "Python 3"
    },
    "language_info": {
      "name": "python"
    }
  },
  "cells": [
    {
      "cell_type": "markdown",
      "metadata": {
        "id": "view-in-github",
        "colab_type": "text"
      },
      "source": [
        "<a href=\"https://colab.research.google.com/github/sousagomide/ia_descomplicada/blob/main/IA_descomplicado.ipynb\" target=\"_parent\"><img src=\"https://colab.research.google.com/assets/colab-badge.svg\" alt=\"Open In Colab\"/></a>"
      ]
    },
    {
      "cell_type": "markdown",
      "source": [
        "# **Introdução**"
      ],
      "metadata": {
        "id": "WcqCMC533YOx"
      }
    },
    {
      "cell_type": "markdown",
      "source": [
        "## **Aprendizagem de Máquina (Machine Learning)**\n",
        "\n",
        "Áreas de aplicação\n",
        "\n",
        "*   Detecção ou reconhecimento facial;\n",
        "*   Captura de movimentos;\n",
        "*   Carros autônomos;\n",
        "*   Sistemas de recomendação (Netflix, Prime, Spotify);\n",
        "*   Sites de encontros;\n",
        "*   Sistemas de comércio eletrônico;\n",
        "*   Sistemas de Anúncios (ADS);\n",
        "*   Conversão de texto para fala;\n",
        "*   Algoritmos de busca;"
      ],
      "metadata": {
        "id": "Fgx0z66cvbmk"
      }
    },
    {
      "cell_type": "markdown",
      "source": [
        "## **Por que aprender Machine Learning?**\n",
        "\n",
        "*   Volume de dados;\n",
        "*   Empregabilidade;"
      ],
      "metadata": {
        "id": "XVhWxlXDykak"
      }
    },
    {
      "cell_type": "markdown",
      "source": [
        "## **Terminologia**\n",
        "\n",
        "*   Inteligência Artificial\n",
        "\n",
        "Sistemas especialistas</br>\n",
        "Visão computacional\n",
        "Machine Learning\n",
        "Processamento de linguagem natural\n",
        "Algoritmos genéticos\n",
        "Sistemas multiagente\n",
        "Data Mining\n",
        "Resolução de problemas por meio de buscas\n",
        "Lógica Fuzzy\n",
        "Raciocínio baseado em casos\n",
        "Redes Neurais\n",
        "Robótica\n",
        "\n",
        "*   Definições:\n",
        "\n",
        "1.   Inteligência Artificial -> Área da Ciência da Computação responsável pelo desenvolvimento de sistemas que simulem a capacidade humana de resolver problemas;\n",
        "2.   Inteligência Computacional -> Envolve as área de Redes Neurais, Computação Evolucionária, Lógica Fuzzy;\n",
        "3.   Machine Learning -> Métodos matemáticos para treinar algoritmos;\n",
        "4.   Data Mining -> Extrair conhecimento de bases de dados, usando métodos de aprendizagem de máquina;\n",
        "5.   Redes neurais -> Algoritmo utilizado para fazer aprendizado de máquina;\n",
        "6.   Deep Learning (Aprendizado profundo) -> Redes neurais com muitas camadas. Mais dados e processadores mais potentes;\n",
        "7.   Big Data -> Imenso volume de dados;\n",
        "8.   Ciência de dados -> Exploração e análise de dados. Ciência da Computação e Estatística. Machine Learning;\n",
        "\n"
      ],
      "metadata": {
        "id": "5ewgs5Ml1hHL"
      }
    },
    {
      "cell_type": "markdown",
      "source": [
        "## **Métodos Preditivos**\n",
        "\n",
        "A aprendizagem de máquina é composta por dois tipos de métodos:\n",
        "\n",
        "*   Métodos Preditivos\n",
        "*   Métodos Descritivos\n",
        "\n",
        "Métodos Preditivos:\n",
        "\n",
        "*   Classificação\n",
        "*   Regressão\n",
        "\n",
        "Métodos Descritivos:\n",
        "\n",
        "*   Associação\n",
        "*   Agrupamento\n",
        "*   Sumarização\n",
        "\n",
        "### **Classificação**\n",
        "\n",
        "<p align=\"center\">\n",
        "  <img src=\"https://github.com/sousagomide/ia_descomplicada/blob/main/img/img_001.jpg?raw=true\" width=\"300\">\n",
        "</p>\n",
        "\n",
        "Define classes para cada um dos registros\n",
        "\n",
        "Exemplos:\n",
        "*   Recomendação de curso para alunos;\n",
        "*   Insatisfação de clientes;\n",
        "*   Categorização de notícias;\n",
        "*   Reconhecimento de voz;\n",
        "*   Previsão de doenças;\n",
        "\n",
        "### **Regressão**\n",
        "\n",
        "<p align=\"center\">\n",
        "  <img src=\"https://github.com/sousagomide/ia_descomplicada/blob/main/img/img_002.jpg?raw=true\" width=\"300\">\n",
        "</p>\n",
        "\n",
        "Não possui classes. Faz a previsão de valores numéricos.\n",
        "\n",
        "Exemplos:\n",
        "*   Gastos com propagandas -> valor de venda;\n",
        "*   A partir da evasão -> quantidade de egressos;\n",
        "*   Resultados de exames -> probabilidade do paciente sobreviver;\n",
        "\n"
      ],
      "metadata": {
        "id": "viRCNYDS5fbg"
      }
    },
    {
      "cell_type": "markdown",
      "source": [
        "## **Métodos Descritivos**\n",
        "\n",
        "A aprendizagem de máquina é composta por dois tipos de métodos:\n",
        "\n",
        "*   Métodos Preditivos\n",
        "*   Métodos Descritivos\n",
        "\n",
        "Métodos Preditivos:\n",
        "\n",
        "*   Classificação\n",
        "*   Regressão\n",
        "\n",
        "Métodos Descritivos:\n",
        "\n",
        "*   Associação\n",
        "*   Agrupamento\n",
        "*   Sumarização\n",
        "\n",
        "### **Associação**\n",
        "\n",
        "<p align=\"center\">\n",
        "  <img src=\"https://github.com/sousagomide/ia_descomplicada/blob/main/img/img_003.jpg?raw=true\" width=\"300\">\n",
        "</p>\n",
        "\n",
        "Focado em encontrar regras de associação.\n",
        "\n",
        "Exemplos:\n",
        "*   Venda de produtos;\n",
        "*   Planejamento de catálogos das lojas e folhetos de promoções;\n",
        "*   Controle de evasão em universidades;\n",
        "\n",
        "### **Agrupamento**\n",
        "\n",
        "<p align=\"center\">\n",
        "  <img src=\"https://github.com/sousagomide/ia_descomplicada/blob/main/img/img_004.jpg?raw=true\" width=\"300\">\n",
        "</p>\n",
        "\n",
        "Por meio da análise de dados criar um grupo.\n",
        "\n",
        "Exemplos:\n",
        "*   Análise de crédito;\n",
        "*   Segmentação de mercado;\n",
        "*   Agrupamento de alunos mais propensos a trabalhar com pesquisa, ensino ou extensão;\n",
        "*   Perfil de clientes (Netflix);\n",
        "\n",
        "### **Sumarização**\n",
        "\n",
        "<p align=\"center\">\n",
        "  <img src=\"https://github.com/sousagomide/ia_descomplicada/blob/main/img/img_005.jpg?raw=true\" width=\"300\">\n",
        "</p>\n",
        "\n",
        "Utilizado para traçar um perfil.\n",
        "\n",
        "Exemplos:\n",
        "*   Resumo de texto;\n",
        "*   Traçar perfil de alunos entre os cursos;\n"
      ],
      "metadata": {
        "id": "LEYbkhKIEND-"
      }
    },
    {
      "cell_type": "markdown",
      "source": [
        "## **Tipos de Aprendizagem de Máquina**\n",
        "\n",
        "*   **Supervisionada**\n",
        "    * Classificação\n",
        "    * Regressão\n",
        "*   **Não supervisionada**\n",
        "    * Associação\n",
        "    * Agrupamento\n",
        "    * Sumarização\n",
        "*   **Reforço**\n",
        "\n",
        "### **Supervisionada**\n",
        "\n",
        "<p align=\"center\">\n",
        "  <img src=\"https://github.com/sousagomide/ia_descomplicada/blob/main/img/img_006.jpg?raw=true\" width=\"500\">\n",
        "</p>\n",
        "\n",
        "### **Não Supervisionada**\n",
        "\n",
        "<p align=\"center\">\n",
        "  <img src=\"https://github.com/sousagomide/ia_descomplicada/blob/main/img/img_007.jpg?raw=true\" width=\"500\">\n",
        "</p>\n",
        "\n",
        "### **Reforço**\n",
        "\n",
        "<p align=\"center\">\n",
        "  <img src=\"https://github.com/sousagomide/ia_descomplicada/blob/main/img/img_008.jpg?raw=true\" width=\"400\">\n",
        "</p>\n",
        "\n",
        "\n"
      ],
      "metadata": {
        "id": "SlO3luJLJYZi"
      }
    },
    {
      "cell_type": "markdown",
      "source": [
        "# **Pré-processamento de dados**"
      ],
      "metadata": {
        "id": "Y6R174m5Oq5e"
      }
    },
    {
      "cell_type": "markdown",
      "source": [
        "## **Importação das bibliotecas**"
      ],
      "metadata": {
        "id": "XEznmBfkJ_vi"
      }
    },
    {
      "cell_type": "code",
      "source": [
        "# Biblioteca para gráficos\n",
        "!pip install plotly --upgrade"
      ],
      "metadata": {
        "colab": {
          "base_uri": "https://localhost:8080/"
        },
        "collapsed": true,
        "id": "co0rDrH4NDQL",
        "outputId": "8c8251f0-9db2-47b0-9b4a-7c7e5de4e9c9"
      },
      "execution_count": 1,
      "outputs": [
        {
          "output_type": "stream",
          "name": "stdout",
          "text": [
            "Requirement already satisfied: plotly in /usr/local/lib/python3.12/dist-packages (5.24.1)\n",
            "Collecting plotly\n",
            "  Downloading plotly-6.3.0-py3-none-any.whl.metadata (8.5 kB)\n",
            "Requirement already satisfied: narwhals>=1.15.1 in /usr/local/lib/python3.12/dist-packages (from plotly) (2.3.0)\n",
            "Requirement already satisfied: packaging in /usr/local/lib/python3.12/dist-packages (from plotly) (25.0)\n",
            "Downloading plotly-6.3.0-py3-none-any.whl (9.8 MB)\n",
            "\u001b[2K   \u001b[90m━━━━━━━━━━━━━━━━━━━━━━━━━━━━━━━━━━━━━━━━\u001b[0m \u001b[32m9.8/9.8 MB\u001b[0m \u001b[31m51.2 MB/s\u001b[0m eta \u001b[36m0:00:00\u001b[0m\n",
            "\u001b[?25hInstalling collected packages: plotly\n",
            "  Attempting uninstall: plotly\n",
            "    Found existing installation: plotly 5.24.1\n",
            "    Uninstalling plotly-5.24.1:\n",
            "      Successfully uninstalled plotly-5.24.1\n",
            "Successfully installed plotly-6.3.0\n"
          ]
        }
      ]
    },
    {
      "cell_type": "code",
      "source": [
        "# Biblioteca para manipular dados\n",
        "import pandas as pd\n",
        "# Biblioteca com funções matemáticas\n",
        "import numpy as np\n",
        "# Biblioteca para exibição de gráficos\n",
        "import seaborn as sns\n",
        "import matplotlib.pyplot as plt\n",
        "import plotly.express as px"
      ],
      "metadata": {
        "id": "hosJtRKlNg9b"
      },
      "execution_count": 2,
      "outputs": []
    }
  ]
}